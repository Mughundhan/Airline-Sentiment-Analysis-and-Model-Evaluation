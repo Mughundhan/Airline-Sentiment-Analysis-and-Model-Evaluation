{
 "cells": [
  {
   "cell_type": "markdown",
   "metadata": {},
   "source": [
    "# Twitter Airline Sentiment Analysis and Model Evaluation"
   ]
  },
  {
   "cell_type": "markdown",
   "metadata": {},
   "source": [
    "## 1. Creating a background environment"
   ]
  },
  {
   "cell_type": "code",
   "execution_count": 1,
   "metadata": {},
   "outputs": [],
   "source": [
    "#Load all data\n",
    "import pandas as pd\n",
    "tweets_data = pd.read_csv('/Users/Mughundhan/UIC/UIC Academics/SPRING 2018/TEXT ANALYTICS/Assignment2/Tweets.csv',encoding=\"utf8\")"
   ]
  },
  {
   "cell_type": "markdown",
   "metadata": {},
   "source": [
    "## 2. Data Overview"
   ]
  },
  {
   "cell_type": "code",
   "execution_count": 2,
   "metadata": {},
   "outputs": [
    {
     "data": {
      "text/html": [
       "<div>\n",
       "<style scoped>\n",
       "    .dataframe tbody tr th:only-of-type {\n",
       "        vertical-align: middle;\n",
       "    }\n",
       "\n",
       "    .dataframe tbody tr th {\n",
       "        vertical-align: top;\n",
       "    }\n",
       "\n",
       "    .dataframe thead th {\n",
       "        text-align: right;\n",
       "    }\n",
       "</style>\n",
       "<table border=\"1\" class=\"dataframe\">\n",
       "  <thead>\n",
       "    <tr style=\"text-align: right;\">\n",
       "      <th></th>\n",
       "      <th>tweet_id</th>\n",
       "      <th>airline_sentiment</th>\n",
       "      <th>airline_sentiment_confidence</th>\n",
       "      <th>negativereason</th>\n",
       "      <th>negativereason_confidence</th>\n",
       "      <th>airline</th>\n",
       "      <th>airline_sentiment_gold</th>\n",
       "      <th>name</th>\n",
       "      <th>negativereason_gold</th>\n",
       "      <th>retweet_count</th>\n",
       "      <th>text</th>\n",
       "      <th>tweet_coord</th>\n",
       "      <th>tweet_created</th>\n",
       "      <th>tweet_location</th>\n",
       "      <th>user_timezone</th>\n",
       "    </tr>\n",
       "  </thead>\n",
       "  <tbody>\n",
       "    <tr>\n",
       "      <th>0</th>\n",
       "      <td>570306133677760513</td>\n",
       "      <td>neutral</td>\n",
       "      <td>1.0000</td>\n",
       "      <td>NaN</td>\n",
       "      <td>NaN</td>\n",
       "      <td>Virgin America</td>\n",
       "      <td>NaN</td>\n",
       "      <td>cairdin</td>\n",
       "      <td>NaN</td>\n",
       "      <td>0</td>\n",
       "      <td>@VirginAmerica What @dhepburn said.</td>\n",
       "      <td>NaN</td>\n",
       "      <td>2015-02-24 11:35:52 -0800</td>\n",
       "      <td>NaN</td>\n",
       "      <td>Eastern Time (US &amp; Canada)</td>\n",
       "    </tr>\n",
       "    <tr>\n",
       "      <th>1</th>\n",
       "      <td>570301130888122368</td>\n",
       "      <td>positive</td>\n",
       "      <td>0.3486</td>\n",
       "      <td>NaN</td>\n",
       "      <td>0.0</td>\n",
       "      <td>Virgin America</td>\n",
       "      <td>NaN</td>\n",
       "      <td>jnardino</td>\n",
       "      <td>NaN</td>\n",
       "      <td>0</td>\n",
       "      <td>@VirginAmerica plus you've added commercials t...</td>\n",
       "      <td>NaN</td>\n",
       "      <td>2015-02-24 11:15:59 -0800</td>\n",
       "      <td>NaN</td>\n",
       "      <td>Pacific Time (US &amp; Canada)</td>\n",
       "    </tr>\n",
       "    <tr>\n",
       "      <th>2</th>\n",
       "      <td>570301083672813571</td>\n",
       "      <td>neutral</td>\n",
       "      <td>0.6837</td>\n",
       "      <td>NaN</td>\n",
       "      <td>NaN</td>\n",
       "      <td>Virgin America</td>\n",
       "      <td>NaN</td>\n",
       "      <td>yvonnalynn</td>\n",
       "      <td>NaN</td>\n",
       "      <td>0</td>\n",
       "      <td>@VirginAmerica I didn't today... Must mean I n...</td>\n",
       "      <td>NaN</td>\n",
       "      <td>2015-02-24 11:15:48 -0800</td>\n",
       "      <td>Lets Play</td>\n",
       "      <td>Central Time (US &amp; Canada)</td>\n",
       "    </tr>\n",
       "  </tbody>\n",
       "</table>\n",
       "</div>"
      ],
      "text/plain": [
       "             tweet_id airline_sentiment  airline_sentiment_confidence  \\\n",
       "0  570306133677760513           neutral                        1.0000   \n",
       "1  570301130888122368          positive                        0.3486   \n",
       "2  570301083672813571           neutral                        0.6837   \n",
       "\n",
       "  negativereason  negativereason_confidence         airline  \\\n",
       "0            NaN                        NaN  Virgin America   \n",
       "1            NaN                        0.0  Virgin America   \n",
       "2            NaN                        NaN  Virgin America   \n",
       "\n",
       "  airline_sentiment_gold        name negativereason_gold  retweet_count  \\\n",
       "0                    NaN     cairdin                 NaN              0   \n",
       "1                    NaN    jnardino                 NaN              0   \n",
       "2                    NaN  yvonnalynn                 NaN              0   \n",
       "\n",
       "                                                text tweet_coord  \\\n",
       "0                @VirginAmerica What @dhepburn said.         NaN   \n",
       "1  @VirginAmerica plus you've added commercials t...         NaN   \n",
       "2  @VirginAmerica I didn't today... Must mean I n...         NaN   \n",
       "\n",
       "               tweet_created tweet_location               user_timezone  \n",
       "0  2015-02-24 11:35:52 -0800            NaN  Eastern Time (US & Canada)  \n",
       "1  2015-02-24 11:15:59 -0800            NaN  Pacific Time (US & Canada)  \n",
       "2  2015-02-24 11:15:48 -0800      Lets Play  Central Time (US & Canada)  "
      ]
     },
     "execution_count": 2,
     "metadata": {},
     "output_type": "execute_result"
    }
   ],
   "source": [
    "tweets_data.head(3)"
   ]
  },
  {
   "cell_type": "markdown",
   "metadata": {},
   "source": [
    "#### Plot Sentiment Distribution for each Airline"
   ]
  },
  {
   "cell_type": "code",
   "execution_count": 3,
   "metadata": {},
   "outputs": [
    {
     "data": {
      "text/plain": [
       "<matplotlib.axes._subplots.AxesSubplot at 0x1a0e51b4d0>"
      ]
     },
     "execution_count": 3,
     "metadata": {},
     "output_type": "execute_result"
    },
    {
     "data": {
      "image/png": "[encoded data removed]",
      "text/plain": [
       "<matplotlib.figure.Figure at 0x1a0e507990>"
      ]
     },
     "metadata": {},
     "output_type": "display_data"
    }
   ],
   "source": [
    "#Plot Sentiment Distribution\n",
    "import matplotlib.pyplot as plt\n",
    "import seaborn as sb\n",
    "%matplotlib inline\n",
    "tweets_data_sub = tweets_data[['airline','airline_sentiment','text']]\n",
    "sb.countplot(x=\"airline\",hue=\"airline_sentiment\", data=tweets_data_sub, color=\"Red\")"
   ]
  },
  {
   "cell_type": "markdown",
   "metadata": {},
   "source": [
    "## 2. Data Cleaning"
   ]
  },
  {
   "cell_type": "markdown",
   "metadata": {},
   "source": [
    "#### Vectorize tweets using count vectorization\n",
    "1. Remove URLs\n",
    "2. Remove Mentions\n",
    "3. Rename Hashtags\n",
    "4. Modify Columns"
   ]
  },
  {
   "cell_type": "code",
   "execution_count": 4,
   "metadata": {},
   "outputs": [
    {
     "name": "stdout",
     "output_type": "stream",
     "text": [
      "(14640, 1)\n",
      "(14640, 13639)\n"
     ]
    }
   ],
   "source": [
    "import re\n",
    "\n",
    "##Renaming Hashtag using Regular Expressions\n",
    "regexp_Htag = '(?<=^|(?<=[^a-zA-Z0-9-_\\.]))#([A-Za-z]+[A-Za-z0-9]+)'\n",
    "pattern_Htag = re.compile(regexp_Htag, re.UNICODE | re.IGNORECASE)\n",
    "\n",
    "##Remove Mention using Regular Expressions\n",
    "regexp_mention = '(?<=^|(?<=[^a-zA-Z0-9-_\\.]))@([A-Za-z0-9_]+[A-Za-z0-9_]+)'\n",
    "pattern_mention = re.compile(regexp_mention, re.UNICODE | re.IGNORECASE)\n",
    "\n",
    "##Remove URLs using Regular Expressions\n",
    "regexp_URL = 'http[s]?://(?:[a-zA-Z]|[0-9]|[$-_@.&+]|[!*\\(\\),]|(?:%[0-9a-fA-F][0-9a-fA-F]))+'\n",
    "pattern_URL = re.compile(regexp_URL, re.UNICODE | re.IGNORECASE)\n",
    "\n",
    "\n",
    "data_final= []\n",
    "\n",
    "for temp in tweets_data_sub['text']:   \n",
    "    temp = re.sub(pattern_URL,'',temp) #Remove URLs\n",
    "    temp = re.sub(pattern_mention,'',temp) #Remove Mentions\n",
    "    temp = re.sub('#','hashtag_', temp) #Rename Hashtag\n",
    "    data_final.append(temp)\n",
    "\n",
    "data_final= pd.DataFrame(data_final)\n",
    "print(data_final.shape)\n",
    "tweets_data_final = tweets_data_sub.join(data_final)\n",
    "\n",
    "del tweets_data_final['text'] #Remove unwanted column\n",
    "\n",
    "tweets_data_final.columns = ['airline', 'airline_sentiment','text'] #Rename column names\n",
    "\n",
    "#Count vectorization:\n",
    "from sklearn.feature_extraction.text import CountVectorizer, TfidfVectorizer, TfidfTransformer\n",
    "\n",
    "vectorizer = CountVectorizer()\n",
    "vectorizer.fit(tweets_data_final['text'])\n",
    "vector = vectorizer.transform(tweets_data_final['text'])\n",
    "print(vector.shape)"
   ]
  },
  {
   "cell_type": "markdown",
   "metadata": {},
   "source": [
    "## 3. Train using Logistic Regression Classifier and K-Fold Classification"
   ]
  },
  {
   "cell_type": "code",
   "execution_count": 83,
   "metadata": {},
   "outputs": [
    {
     "name": "stdout",
     "output_type": "stream",
     "text": [
      "Trained using Logistic Regression\n",
      "-------------------\n",
      "US Airways\n",
      "Accuracy:  0.8122\n",
      "F1 Score:  0.7955\n",
      "-------------------\n",
      "Southwest\n",
      "Accuracy:  0.7128\n",
      "F1 Score:  0.7133\n",
      "-------------------\n",
      "American\n",
      "Accuracy:  0.7992\n",
      "F1 Score:  0.7885\n",
      "-------------------\n",
      "United\n",
      "Accuracy:  0.7470\n",
      "F1 Score:  0.7357\n",
      "-------------------\n",
      "Delta\n",
      "Accuracy:  0.6796\n",
      "F1 Score:  0.6794\n",
      "-------------------\n",
      "Virgin America\n",
      "Accuracy:  0.6426\n",
      "F1 Score:  0.6437\n",
      "-------------------\n"
     ]
    }
   ],
   "source": [
    "import numpy as np\n",
    "from sklearn.model_selection import KFold\n",
    "from sklearn.metrics  import accuracy_score, classification_report, confusion_matrix, precision_score, recall_score, f1_score\n",
    "from sklearn.linear_model import LogisticRegression\n",
    "\n",
    "unique_airline= tweets_data_final['airline'].unique()\n",
    "\n",
    "print(\"Trained using Logistic Regression\")\n",
    "print(\"-------------------\")\n",
    "\n",
    "def acc_score(airline):\n",
    "    airline_data = tweets_data_final[tweets_data_final['airline']==airline]\n",
    "    airline_data = airline_data.reset_index(drop=True)\n",
    "    accuracy = []\n",
    "    f_score = []\n",
    "    \n",
    "    kf10 = KFold(n_splits=10) #10 fold cross-validation\n",
    "    for train, valid in kf10.split(airline_data['airline_sentiment']):\n",
    "        X_train_text = airline_data['text'][train]\n",
    "        y_train = airline_data['airline_sentiment'][train]\n",
    "        X_valid_text = airline_data['text'][valid]\n",
    "        y_valid = airline_data['airline_sentiment'][valid]\n",
    "        \n",
    "        #Using Count Vectorizer\n",
    "        vect = CountVectorizer(min_df = 1, stop_words = 'english')\n",
    "        X_train = vect.fit_transform(X_train_text)\n",
    "        X_valid = vect.transform(X_valid_text)\n",
    "        \n",
    "        #Using Logistic Regression\n",
    "        lr = LogisticRegression(C = 5)\n",
    "        lr.fit(X_train, y_train)\n",
    "\n",
    "        p_valid = lr.predict(X_valid)\n",
    "        accuracy.append(accuracy_score(y_valid, p_valid))\n",
    "        f_score.append(f1_score(y_valid, p_valid, average='weighted'))\n",
    "    \n",
    "    accuracy = np.array(accuracy).mean(0)\n",
    "    f_score = np.array(f_score).mean(0)\n",
    "    \n",
    "    #Printing the Airlines Name, Accuracy and F1 Score\n",
    "    print(airline)\n",
    "    print(\"Accuracy:  %.04f\" % accuracy)\n",
    "    print(\"F1 Score:  %.04f\" % f_score)\n",
    "    print(\"-------------------\")\n",
    "    \n",
    "for i in range (6):\n",
    "    acc_score(unique_airline[i])"
   ]
  },
  {
   "cell_type": "markdown",
   "metadata": {},
   "source": [
    "#### Analysis\n",
    "\n",
    "    A. F1 Score is the weighted average of Precision and Recall, hence this takes both False Positives and False Negatives into account.\n",
    "    B. Since we have an uneven class distribution, F1 score is more useful than Accuracy in this case. Given that we perform Logistic Regression which is a discriminative model, performs better as the training data size reaches infinity.\n",
    "    C. Based on both the parameters we can say that US Airways performs better than other airlines which is followed by American Airlines.\n",
    "    D. On the other hand, Virgin America airlines' performance seems to the poorest based on these metrics which is followed by Delta Airlines."
   ]
  },
  {
   "cell_type": "markdown",
   "metadata": {},
   "source": [
    "## 4. Train using Multinomial Naïve Bayes Classifier and K-Fold Classification"
   ]
  },
  {
   "cell_type": "code",
   "execution_count": 84,
   "metadata": {},
   "outputs": [
    {
     "name": "stdout",
     "output_type": "stream",
     "text": [
      "Trained using Multinomial Naive Bayes\n",
      "-------------------\n",
      "US Airways\n",
      "Accuracy:  0.8012\n",
      "F1 Score:  0.7711\n",
      "-------------------\n",
      "Southwest\n",
      "Accuracy:  0.6773\n",
      "F1 Score:  0.6664\n",
      "-------------------\n",
      "American\n",
      "Accuracy:  0.7767\n",
      "F1 Score:  0.7517\n",
      "-------------------\n",
      "United\n",
      "Accuracy:  0.7321\n",
      "F1 Score:  0.7054\n",
      "-------------------\n",
      "Delta\n",
      "Accuracy:  0.6490\n",
      "F1 Score:  0.6413\n",
      "-------------------\n",
      "Virgin America\n",
      "Accuracy:  0.5913\n",
      "F1 Score:  0.5867\n",
      "-------------------\n"
     ]
    }
   ],
   "source": [
    "from sklearn.naive_bayes import BernoulliNB, MultinomialNB, GaussianNB\n",
    "\n",
    "unique_airline= tweets_data_final['airline'].unique()\n",
    "\n",
    "print(\"Trained using Multinomial Naive Bayes\")\n",
    "print(\"-------------------\")\n",
    "\n",
    "def acc_score(airline):\n",
    "    airline_data = tweets_data_final[tweets_data_final['airline']==airline]\n",
    "    airline_data = airline_data.reset_index(drop=True)\n",
    "    accuracy = []\n",
    "    f_score = []\n",
    "    \n",
    "    kf10 = KFold(n_splits=10) #10 fold cross-validation\n",
    "    for train, valid in kf10.split(airline_data['airline_sentiment']):\n",
    "        X_train_text = airline_data['text'][train]\n",
    "        y_train = airline_data['airline_sentiment'][train]\n",
    "        X_valid_text = airline_data['text'][valid]\n",
    "        y_valid = airline_data['airline_sentiment'][valid]\n",
    "        \n",
    "        #Using Count Vectorizer\n",
    "        vect = CountVectorizer(min_df = 1, stop_words = 'english')\n",
    "        X_train = vect.fit_transform(X_train_text)\n",
    "        X_valid = vect.transform(X_valid_text)\n",
    "        \n",
    "        #Using Multinomial Naive Bayes\n",
    "        mnb = MultinomialNB(1e-10)\n",
    "        mnb.fit(X_train, y_train)\n",
    "\n",
    "        p_valid = mnb.predict(X_valid)\n",
    "        accuracy.append(accuracy_score(y_valid, p_valid))\n",
    "        f_score.append(f1_score(y_valid, p_valid, average='weighted'))\n",
    "    \n",
    "    accuracy = np.array(accuracy).mean(0)\n",
    "    f_score = np.array(f_score).mean(0)\n",
    "    \n",
    "    #Printing the Airlines Name, Accuracy and F1 Score\n",
    "    print(airline)\n",
    "    print(\"Accuracy:  %.04f\" % accuracy)\n",
    "    print(\"F1 Score:  %.04f\" % f_score)\n",
    "    print(\"-------------------\")\n",
    "    \n",
    "for i in range (6):\n",
    "    acc_score(unique_airline[i])"
   ]
  },
  {
   "cell_type": "markdown",
   "metadata": {},
   "source": [
    "#### Analysis:\n",
    "    A. We can see a marginal dip in F1 score as well as Accuracy for the airlines corresponding to Multinomial Naive Bayes when compared with Logistic Regression.\n",
    "    B. Since Naive Bayes is a Generative Model, it performs not as good as Logistic Regression as the training size increases.\n",
    "    B. Based on both the parameters we can say that US Airways performs better than other airlines which is followed by American Airlines (similar to the case in Logistic Regression).\n",
    "    C. On the other hand, Virgin America airlines' performance seems to the poorest based on these metrics which is followed by Delta Airlines (similar to the case in Logistic Regression)."
   ]
  },
  {
   "cell_type": "markdown",
   "metadata": {},
   "source": [
    "## 5. Merge all airlines together\n",
    "#### a. Train using Logistic Regression Classifier\n",
    "#### b. Train using Multinomial Naïve Bayes Classifier\n",
    "#### c. Perform K-Fold Classification."
   ]
  },
  {
   "cell_type": "code",
   "execution_count": 85,
   "metadata": {},
   "outputs": [
    {
     "name": "stdout",
     "output_type": "stream",
     "text": [
      "Computations for Logistic Regression\n",
      "Accuracy:  0.7693\n",
      "F1 Score:  0.7654\n",
      "---------------------------------------------------------\n",
      "---------------------------------------------------------\n",
      "Computations for Multinomial Naive Bayes\n",
      "Accuracy:  0.7190\n",
      "F1 Score:  0.7025\n"
     ]
    }
   ],
   "source": [
    "#Initializations\n",
    "accuracy_lr = []\n",
    "f_score_lr = []\n",
    "accuracy_mnb = []\n",
    "f_score_mnb = []\n",
    "\n",
    "kf10 = KFold(n_splits=10) #10 fold cross-validation\n",
    "\n",
    "for train, valid in kf10.split(tweets_data_final['airline_sentiment']):\n",
    "    X_train_text = tweets_data_final['text'][train]\n",
    "    y_train = tweets_data_final['airline_sentiment'][train]\n",
    "\n",
    "    X_valid_text = tweets_data_final['text'][valid]\n",
    "    y_valid = tweets_data_final['airline_sentiment'][valid]\n",
    "\n",
    "    vect = CountVectorizer(min_df = 1, stop_words = 'english')\n",
    "\n",
    "    X_train = vect.fit_transform(X_train_text)\n",
    "    X_valid = vect.transform(X_valid_text)\n",
    "\n",
    "    # Computations for Logistic Regression\n",
    "    LR_All = LogisticRegression(C = 5)\n",
    "    LR_All.fit(X_train, y_train)\n",
    "\n",
    "    p_valid = LR_All.predict(X_valid)\n",
    "    accuracy_lr.append(accuracy_score(y_valid, p_valid))\n",
    "    f_score_lr.append(f1_score(y_valid, p_valid, average='weighted'))\n",
    "        \n",
    "    # Computations for Multinomial Naive Bayes\n",
    "    MNB_All = MultinomialNB(1e-10)\n",
    "    MNB_All.fit(X_train, y_train)\n",
    "    \n",
    "    p_valid_MNB = MNB_All.predict(X_valid)\n",
    "    accuracy_mnb.append(accuracy_score(y_valid, p_valid_MNB))\n",
    "    f_score_mnb.append(f1_score(y_valid, p_valid_MNB, average='weighted'))    \n",
    "\n",
    "#Logistic Regression\n",
    "accuracy_lr = np.array(accuracy_lr).mean(0)\n",
    "f_score_lr = np.array(f_score_lr).mean(0)\n",
    "print(\"Computations for Logistic Regression\")\n",
    "print(\"Accuracy:  %.04f\" % accuracy_lr)\n",
    "print(\"F1 Score:  %.04f\" % f_score_lr)\n",
    "\n",
    "print(\"---------------------------------------------------------\")\n",
    "print(\"---------------------------------------------------------\")\n",
    "\n",
    "#Multinomial Naive Bayes\n",
    "accuracy_mnb = np.array(accuracy_mnb).mean(0)\n",
    "f_score_mnb = np.array(f_score_mnb).mean(0)\n",
    "print(\"Computations for Multinomial Naive Bayes\")\n",
    "print(\"Accuracy:  %.04f\" % accuracy_mnb)\n",
    "print(\"F1 Score:  %.04f\" % f_score_mnb)"
   ]
  },
  {
   "cell_type": "markdown",
   "metadata": {},
   "source": [
    "#### Analysis:\n",
    "\n",
    "    A. We can see that Logistic Regression outperforms Multinomial Naive Bayes in this case.\n",
    "    B. In general, Naive Bayes Algorithms work well with dataset of smaller sizes because the prior probabilities shall be used to predict results.\n",
    "    C. As the size of the training data increases, Logistic Regression outperforms Naive Bayes."
   ]
  },
  {
   "cell_type": "markdown",
   "metadata": {},
   "source": [
    "## 6. Plot a Learning Curve by gradually adding training data points"
   ]
  },
  {
   "cell_type": "code",
   "execution_count": 75,
   "metadata": {},
   "outputs": [
    {
     "name": "stdout",
     "output_type": "stream",
     "text": [
      "((11713,), (2927,))\n"
     ]
    }
   ],
   "source": [
    "#Random sampling and 80/20 Data Split\n",
    "tweets_data_final = tweets_data_final.sample(frac=1, random_state= 100)\n",
    "\n",
    "X_train_text1 = tweets_data_final['text'][:11713]\n",
    "y_train1 = tweets_data_final['airline_sentiment'][:11713]\n",
    "\n",
    "X_valid_text = tweets_data_final['text'][11713:]\n",
    "y_valid = tweets_data_final['airline_sentiment'][11713:]\n",
    "\n",
    "print(y_train1.shape, y_valid.shape)"
   ]
  },
  {
   "cell_type": "code",
   "execution_count": 76,
   "metadata": {},
   "outputs": [
    {
     "name": "stdout",
     "output_type": "stream",
     "text": [
      "Logistic Regression Score:\n",
      "[[0.7273659  0.70921786]\n",
      " [0.73761531 0.72577561]\n",
      " [0.74069013 0.73409916]\n",
      " [0.75572258 0.7505313 ]\n",
      " [0.76050564 0.75634626]\n",
      " [0.76426375 0.7609529 ]\n",
      " [0.77041339 0.76718284]\n",
      " [0.77143833 0.76812154]\n",
      " [0.77348821 0.7711235 ]\n",
      " [0.77246327 0.77027762]\n",
      " [0.77280492 0.77124525]\n",
      " [0.77827127 0.77700729]\n",
      " [0.77895456 0.7775877 ]\n",
      " [0.77587974 0.77382998]\n",
      " [0.77895456 0.77778628]\n",
      " [0.78032115 0.77881336]\n",
      " [0.78066279 0.77936648]\n",
      " [0.77827127 0.77647873]\n",
      " [0.77758797 0.77614831]]\n",
      "Naive Bayes Score:\n",
      "[[0.68807653 0.64870264]\n",
      " [0.71814144 0.68587699]\n",
      " [0.71472497 0.68860502]\n",
      " [0.72258285 0.70163802]\n",
      " [0.7324906  0.71534686]\n",
      " [0.73488213 0.7188994 ]\n",
      " [0.72634096 0.70923831]\n",
      " [0.73522378 0.71909982]\n",
      " [0.73932354 0.72478095]\n",
      " [0.74000683 0.72632672]\n",
      " [0.7434233  0.73003086]\n",
      " [0.7434233  0.73100458]\n",
      " [0.74274001 0.73036431]\n",
      " [0.74683977 0.73380549]\n",
      " [0.74718141 0.73492524]\n",
      " [0.74820635 0.73622714]\n",
      " [0.75093953 0.73897339]\n",
      " [0.75230612 0.73999542]\n",
      " [0.74752306 0.73488263]]\n"
     ]
    }
   ],
   "source": [
    "#Initializations\n",
    "acc_score_lr = []\n",
    "acc_score_mnb = []\n",
    "metrics = [accuracy_score,f1_score]\n",
    "\n",
    "#Generating a Learning Curve:\n",
    "for i in range(586, 11713, 586): #Using the values we obtained using shape function\n",
    "    \n",
    "    X_train_text = X_train_text1[:i]\n",
    "    y_train = y_train1[:i]\n",
    "    \n",
    "    #Performing Count Vectorizing on train and validation data\n",
    "    vect = CountVectorizer(min_df = 1, stop_words = 'english')\n",
    "\n",
    "    X_train = vect.fit_transform(X_train_text)\n",
    "    X_valid = vect.transform(X_valid_text)\n",
    "\n",
    "    #For Logistic Regression\n",
    "    LR_Learning = LogisticRegression(C = 5)\n",
    "    LR_Learning.fit(X_train, y_train)\n",
    "\n",
    "    p_valid = LR_Learning.predict(X_valid)\n",
    "    Accuracy_LR_Learning = accuracy_score(y_valid, p_valid)\n",
    "    F_values_LR_Learning = f1_score(y_valid, p_valid, average='weighted')\n",
    "    acc_score_lr.append([Accuracy_LR_Learning,F_values_LR_Learning])  \n",
    "    \n",
    "    #For Multinomial Naive Bayes\n",
    "    MNB_Learning = MultinomialNB(1e-10)\n",
    "    MNB_Learning.fit(X_train, y_train)\n",
    "    \n",
    "    p_valid_MNB = MNB_Learning.predict(X_valid)\n",
    "    Accuracy_MNB_Learning = accuracy_score(y_valid, p_valid_MNB)\n",
    "    F_values_MNB_Learning = f1_score(y_valid, p_valid_MNB, average='weighted')\n",
    "    acc_score_mnb.append([Accuracy_MNB_Learning,F_values_MNB_Learning])\n",
    "    \n",
    "acc_score_lr = np.array(acc_score_lr)\n",
    "acc_score_mnb = np.array(acc_score_mnb)\n",
    "\n",
    "print('Logistic Regression Score:')\n",
    "print(acc_score_lr)\n",
    "print('Naive Bayes Score:')\n",
    "print(acc_score_mnb)"
   ]
  },
  {
   "cell_type": "markdown",
   "metadata": {},
   "source": [
    "#### Plot accuracy of Logistic Regression Classifier and Multinomial Naïve Bayes Classifier"
   ]
  },
  {
   "cell_type": "code",
   "execution_count": 88,
   "metadata": {},
   "outputs": [
    {
     "data": {
      "image/png": "[encoded data removed]",
      "text/plain": [
       "<matplotlib.figure.Figure at 0x1a190504d0>"
      ]
     },
     "metadata": {},
     "output_type": "display_data"
    }
   ],
   "source": [
    "%matplotlib inline\n",
    "\n",
    "size = np.arange(586, 11712, 586)\n",
    "plt.title(\"Learning Curve\")\n",
    "\n",
    "plt.plot(size, acc_score_lr[:, 0], label = 'Linear Regression')\n",
    "plt.plot(size, acc_score_mnb[:, 0], label = 'Multinomial Naive Bayes')\n",
    "\n",
    "plt.xlabel('Size of Training Data')\n",
    "plt.ylabel('Accuracy Value')\n",
    "plt.xlim(size.min(), size.max())\n",
    "plt.legend(loc = 'lower right')\n",
    "plt.show()"
   ]
  },
  {
   "cell_type": "markdown",
   "metadata": {},
   "source": [
    "#### Analysis:\n",
    "\n",
    "    A. We can infer from the learning curve that the Logistic Regression outperforms Multinomial Naive Bayes.\n",
    "    B. On adding additional training data, the accuracy of both the classifiers proves to increase with dips at certain points.\n",
    "    C. But we can see that the Learning Curve for Logistic Regression is more steady as we increase the size of the training data. This is because it is a discriminative model which estimates the probability (y/x) directly from the training data by minimizing error."
   ]
  },
  {
   "cell_type": "code",
   "execution_count": null,
   "metadata": {
    "collapsed": true
   },
   "outputs": [],
   "source": []
  }
 ],
 "metadata": {
  "anaconda-cloud": {},
  "kernelspec": {
   "display_name": "Python 2",
   "language": "python",
   "name": "python2"
  },
  "language_info": {
   "codemirror_mode": {
    "name": "ipython",
    "version": 2
   },
   "file_extension": ".py",
   "mimetype": "text/x-python",
   "name": "python",
   "nbconvert_exporter": "python",
   "pygments_lexer": "ipython2",
   "version": "2.7.14"
  }
 },
 "nbformat": 4,
 "nbformat_minor": 1
}
